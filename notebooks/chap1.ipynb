{
 "cells": [
  {
   "cell_type": "markdown",
   "id": "122e6fb2",
   "metadata": {},
   "source": [
    "# Practical Statistics for Data Scientists (Python)\n",
    "# Chapter 1. Exploratory Data Analysis\n",
    "> (c) 2019 Peter C. Bruce, Andrew Bruce, Peter Gedeck"
   ]
  },
  {
   "cell_type": "code",
   "execution_count": null,
   "id": "41a89b67",
   "metadata": {},
   "outputs": [],
   "source": [
    "import pandas as pd\n",
    "import numpy as np\n",
    "import matplotlib.pyplot as plt\n",
    "from scipy.stats import trim_mean\n",
    "%matplotlib inline"
   ]
  },
  {
   "cell_type": "code",
   "execution_count": 11,
   "id": "2ac76661",
   "metadata": {},
   "outputs": [],
   "source": [
    "# Define part to dataset\n",
    "AIRLINE_STATS_CSV = '../data/airline_stats.csv'\n",
    "KC_TAX_CSV = '../data/kc_tax.csv.gz'\n",
    "LC_LOANS_CSV = '../data/lc_loans.csv'\n",
    "AIRPORT_DELAYS_CSV = '../data/dfw_airline.csv'\n",
    "SP500_DATA_CSV = '../data/sp500_data.csv.gz'\n",
    "SP500_SECTORS_CSV = '../data/sp500_sectors.csv'\n",
    "STATE_CSV = '../data/state.csv'"
   ]
  },
  {
   "cell_type": "markdown",
   "id": "3f7475af",
   "metadata": {},
   "source": [
    "# 1. Estimates of Location\n",
    "## Example: Location Estimates of Population and Murder Rates\n",
    "\n",
    "Compute the mean, trimmed mean, and median for Population. For `mean` and `median` we can use the _pandas_ methods of the data frame. The trimmed mean requires the `trim_mean` function in _scipy.stats_."
   ]
  },
  {
   "cell_type": "code",
   "execution_count": 12,
   "id": "79c8a56a",
   "metadata": {},
   "outputs": [
    {
     "name": "stdout",
     "output_type": "stream",
     "text": [
      "<class 'pandas.core.frame.DataFrame'>\n",
      "RangeIndex: 50 entries, 0 to 49\n",
      "Data columns (total 4 columns):\n",
      " #   Column        Non-Null Count  Dtype  \n",
      "---  ------        --------------  -----  \n",
      " 0   State         50 non-null     object \n",
      " 1   Population    50 non-null     int64  \n",
      " 2   Murder.Rate   50 non-null     float64\n",
      " 3   Abbreviation  50 non-null     object \n",
      "dtypes: float64(1), int64(1), object(2)\n",
      "memory usage: 1.7+ KB\n"
     ]
    },
    {
     "data": {
      "text/html": [
       "<div>\n",
       "<style scoped>\n",
       "    .dataframe tbody tr th:only-of-type {\n",
       "        vertical-align: middle;\n",
       "    }\n",
       "\n",
       "    .dataframe tbody tr th {\n",
       "        vertical-align: top;\n",
       "    }\n",
       "\n",
       "    .dataframe thead th {\n",
       "        text-align: right;\n",
       "    }\n",
       "</style>\n",
       "<table border=\"1\" class=\"dataframe\">\n",
       "  <thead>\n",
       "    <tr style=\"text-align: right;\">\n",
       "      <th></th>\n",
       "      <th>State</th>\n",
       "      <th>Population</th>\n",
       "      <th>Murder.Rate</th>\n",
       "      <th>Abbreviation</th>\n",
       "    </tr>\n",
       "  </thead>\n",
       "  <tbody>\n",
       "    <tr>\n",
       "      <th>0</th>\n",
       "      <td>Alabama</td>\n",
       "      <td>4779736</td>\n",
       "      <td>5.7</td>\n",
       "      <td>AL</td>\n",
       "    </tr>\n",
       "    <tr>\n",
       "      <th>1</th>\n",
       "      <td>Alaska</td>\n",
       "      <td>710231</td>\n",
       "      <td>5.6</td>\n",
       "      <td>AK</td>\n",
       "    </tr>\n",
       "    <tr>\n",
       "      <th>2</th>\n",
       "      <td>Arizona</td>\n",
       "      <td>6392017</td>\n",
       "      <td>4.7</td>\n",
       "      <td>AZ</td>\n",
       "    </tr>\n",
       "    <tr>\n",
       "      <th>3</th>\n",
       "      <td>Arkansas</td>\n",
       "      <td>2915918</td>\n",
       "      <td>5.6</td>\n",
       "      <td>AR</td>\n",
       "    </tr>\n",
       "    <tr>\n",
       "      <th>4</th>\n",
       "      <td>California</td>\n",
       "      <td>37253956</td>\n",
       "      <td>4.4</td>\n",
       "      <td>CA</td>\n",
       "    </tr>\n",
       "  </tbody>\n",
       "</table>\n",
       "</div>"
      ],
      "text/plain": [
       "        State  Population  Murder.Rate Abbreviation\n",
       "0     Alabama     4779736          5.7           AL\n",
       "1      Alaska      710231          5.6           AK\n",
       "2     Arizona     6392017          4.7           AZ\n",
       "3    Arkansas     2915918          5.6           AR\n",
       "4  California    37253956          4.4           CA"
      ]
     },
     "execution_count": 12,
     "metadata": {},
     "output_type": "execute_result"
    }
   ],
   "source": [
    "state = pd.read_csv(STATE_CSV)\n",
    "state.info()\n",
    "state.head()"
   ]
  },
  {
   "cell_type": "code",
   "execution_count": 32,
   "id": "94b16487",
   "metadata": {},
   "outputs": [],
   "source": [
    "def trim_mean(s,f):\n",
    "    '''\n",
    "    Return trimmed mean of serie\n",
    "    Args:\n",
    "        s: series\n",
    "        f (float): trim value (0:1)\n",
    "    Returns:\n",
    "        mean: mean of trimmed series\n",
    "    '''\n",
    "    assert f >0, 'f value must be from 0-1'\n",
    "    assert f <1, 'f value must be from 0-1'\n",
    "    l = len(s)\n",
    "    n = int(l*f)\n",
    "    trimmed_s = s[n:-n]\n",
    "    trimmed_mean = trimmed_s.mean()\n",
    "    return trimmed_mean"
   ]
  },
  {
   "cell_type": "code",
   "execution_count": 38,
   "id": "592ac3ad",
   "metadata": {},
   "outputs": [
    {
     "data": {
      "text/plain": [
       "5831569.675"
      ]
     },
     "execution_count": 38,
     "metadata": {},
     "output_type": "execute_result"
    }
   ],
   "source": [
    "trim_mean(state['Population'],f=0.1)"
   ]
  },
  {
   "cell_type": "code",
   "execution_count": 36,
   "id": "19262d8c",
   "metadata": {},
   "outputs": [
    {
     "name": "stdout",
     "output_type": "stream",
     "text": [
      "mean of population 6162876.3\n",
      "trimmed mean population 5831569.675\n",
      "median of population 4436369.5\n"
     ]
    }
   ],
   "source": [
    "# mean of population\n",
    "print('mean of population',state['Population'].mean())\n",
    "\n",
    "# trimmed mean of population\n",
    "print('trimmed mean population',trim_mean(state['Population'],0.1))\n",
    "\n",
    "# median of population\n",
    "print('median of population',state['Population'].median())"
   ]
  },
  {
   "cell_type": "markdown",
   "id": "662dcdf9",
   "metadata": {},
   "source": [
    "# 2. Estimates of Variability"
   ]
  },
  {
   "cell_type": "code",
   "execution_count": null,
   "id": "15f66a29",
   "metadata": {},
   "outputs": [],
   "source": []
  },
  {
   "cell_type": "markdown",
   "id": "47242355",
   "metadata": {},
   "source": [
    "## Percentiles and Boxplots\n",
    "_Pandas_ has the `quantile` method for data frames."
   ]
  },
  {
   "cell_type": "code",
   "execution_count": null,
   "id": "dcf11137",
   "metadata": {},
   "outputs": [],
   "source": []
  },
  {
   "cell_type": "markdown",
   "id": "d44701c9",
   "metadata": {},
   "source": [
    "## Frequency Table and Histograms\n",
    "The `cut` method for _pandas_ data splits the dataset into bins. There are a number of arguments for the method. The following code creates equal sized bins. The method `value_counts` returns a frequency table."
   ]
  },
  {
   "cell_type": "code",
   "execution_count": null,
   "id": "00909174",
   "metadata": {},
   "outputs": [],
   "source": []
  },
  {
   "cell_type": "markdown",
   "id": "7cc54706",
   "metadata": {},
   "source": [
    "## Density Estimates\n",
    "Density is an alternative to histograms that can provide more insight into the distribution of the data points. Use the argument `bw_method` to control the smoothness of the density curve."
   ]
  },
  {
   "cell_type": "code",
   "execution_count": null,
   "id": "966fbc70",
   "metadata": {},
   "outputs": [],
   "source": []
  },
  {
   "cell_type": "markdown",
   "id": "c21b94e1",
   "metadata": {},
   "source": [
    "# 3. Exploring Binary and Categorical Data"
   ]
  },
  {
   "cell_type": "code",
   "execution_count": null,
   "id": "8c4220d5",
   "metadata": {},
   "outputs": [],
   "source": []
  },
  {
   "cell_type": "markdown",
   "id": "b38b28be",
   "metadata": {},
   "source": [
    "# 4. Correlation\n",
    "First read the required datasets"
   ]
  },
  {
   "cell_type": "code",
   "execution_count": null,
   "id": "c49862fc",
   "metadata": {},
   "outputs": [],
   "source": []
  },
  {
   "cell_type": "markdown",
   "id": "fdc75c7e",
   "metadata": {},
   "source": [
    "## Scatterplots\n",
    "Simple scatterplots are supported by _pandas_. Specifying the marker as `$\\u25EF$` uses an open circle for each point."
   ]
  },
  {
   "cell_type": "code",
   "execution_count": null,
   "id": "1827738b",
   "metadata": {},
   "outputs": [],
   "source": []
  },
  {
   "cell_type": "markdown",
   "id": "045e401b",
   "metadata": {},
   "source": [
    "# 5. Exploring Two or More Variables\n",
    "Load the kc_tax dataset and filter based on a variety of criteria"
   ]
  },
  {
   "cell_type": "code",
   "execution_count": null,
   "id": "0efda74a",
   "metadata": {},
   "outputs": [],
   "source": []
  },
  {
   "cell_type": "markdown",
   "id": "4af5cfda",
   "metadata": {},
   "source": [
    "## Hexagonal binning and Contours \n",
    "### Plotting numeric versus numeric data\n",
    "\n",
    "If the number of data points gets large, scatter plots will no longer be meaningful. Here methods that visualize densities are more useful. The `hexbin` method for _pandas_ data frames is one powerful approach."
   ]
  },
  {
   "cell_type": "code",
   "execution_count": null,
   "id": "93eccab1",
   "metadata": {},
   "outputs": [],
   "source": []
  },
  {
   "cell_type": "markdown",
   "id": "674eb313",
   "metadata": {},
   "source": [
    "## Two Categorical Variables\n",
    "Load the `lc_loans` dataset"
   ]
  },
  {
   "cell_type": "code",
   "execution_count": null,
   "id": "386203da",
   "metadata": {},
   "outputs": [],
   "source": []
  },
  {
   "cell_type": "markdown",
   "id": "8fccf0c9",
   "metadata": {},
   "source": [
    "## Categorical and Numeric Data\n",
    "_Pandas_ boxplots of a column can be grouped by a different column."
   ]
  },
  {
   "cell_type": "code",
   "execution_count": null,
   "id": "a5fe5334",
   "metadata": {},
   "outputs": [],
   "source": []
  },
  {
   "cell_type": "markdown",
   "id": "3a2edaaf",
   "metadata": {},
   "source": [
    "## Visualizing Multiple Variables"
   ]
  },
  {
   "cell_type": "code",
   "execution_count": null,
   "id": "429ff394",
   "metadata": {},
   "outputs": [],
   "source": []
  }
 ],
 "metadata": {
  "kernelspec": {
   "display_name": "Python 3 (ipykernel)",
   "language": "python",
   "name": "python3"
  },
  "language_info": {
   "codemirror_mode": {
    "name": "ipython",
    "version": 3
   },
   "file_extension": ".py",
   "mimetype": "text/x-python",
   "name": "python",
   "nbconvert_exporter": "python",
   "pygments_lexer": "ipython3",
   "version": "3.8.10"
  }
 },
 "nbformat": 4,
 "nbformat_minor": 5
}
