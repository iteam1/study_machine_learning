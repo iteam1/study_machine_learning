{
 "cells": [
  {
   "cell_type": "markdown",
   "id": "686adb0e-3383-4448-8e4d-7d4a9b8fb19c",
   "metadata": {},
   "source": [
    "Tensor examples"
   ]
  },
  {
   "cell_type": "code",
   "execution_count": 1,
   "id": "5fbaf682-df3c-411e-bbcc-d47324da3525",
   "metadata": {},
   "outputs": [],
   "source": [
    "import torch"
   ]
  },
  {
   "cell_type": "code",
   "execution_count": 2,
   "id": "c63602d8-e2bc-47fe-98dd-07a23604f562",
   "metadata": {},
   "outputs": [
    {
     "data": {
      "text/plain": [
       "tensor([-66,  -1, -38,  83,  68, -11])"
      ]
     },
     "execution_count": 2,
     "metadata": {},
     "output_type": "execute_result"
    }
   ],
   "source": [
    "randint = torch.randint(-100,100,(6,))\n",
    "randint"
   ]
  },
  {
   "cell_type": "code",
   "execution_count": 3,
   "id": "17a50dfb-0396-47ed-afa8-88e1debdc028",
   "metadata": {},
   "outputs": [
    {
     "data": {
      "text/plain": [
       "tensor([[0.1000, 1.2000],\n",
       "        [2.2000, 3.1000],\n",
       "        [4.9000, 5.2000]])"
      ]
     },
     "execution_count": 3,
     "metadata": {},
     "output_type": "execute_result"
    }
   ],
   "source": [
    "tensor = torch.tensor([[0.1,1.2],[2.2,3.1],[4.9,5.2]])\n",
    "tensor"
   ]
  },
  {
   "cell_type": "code",
   "execution_count": 5,
   "id": "c177eb68-7637-4e50-b7a7-19f02d52523f",
   "metadata": {},
   "outputs": [
    {
     "data": {
      "text/plain": [
       "tensor([[0., 0., 0.],\n",
       "        [0., 0., 0.]])"
      ]
     },
     "execution_count": 5,
     "metadata": {},
     "output_type": "execute_result"
    }
   ],
   "source": [
    "zeros = torch.zeros(2,3)\n",
    "zeros"
   ]
  },
  {
   "cell_type": "code",
   "execution_count": 7,
   "id": "d5b396c3-69a6-4120-a6d3-522f4c21e74a",
   "metadata": {},
   "outputs": [
    {
     "data": {
      "text/plain": [
       "tensor([[1., 1., 1., 1.],\n",
       "        [1., 1., 1., 1.],\n",
       "        [1., 1., 1., 1.]])"
      ]
     },
     "execution_count": 7,
     "metadata": {},
     "output_type": "execute_result"
    }
   ],
   "source": [
    "ones = torch.ones(3,4)\n",
    "ones"
   ]
  },
  {
   "cell_type": "code",
   "execution_count": 9,
   "id": "79728d5d-bc29-477f-8c20-bcad6e985804",
   "metadata": {},
   "outputs": [
    {
     "data": {
      "text/plain": [
       "tensor([[0.0000e+00, 7.7071e-44, 1.7584e-04],\n",
       "        [6.7948e+22, 6.8989e-07, 1.0490e-08]])"
      ]
     },
     "execution_count": 9,
     "metadata": {},
     "output_type": "execute_result"
    }
   ],
   "source": [
    "tensor = torch.empty(2,3)\n",
    "tensor"
   ]
  },
  {
   "cell_type": "code",
   "execution_count": 11,
   "id": "60b960eb-a4cf-46ba-9a38-2c0b36109564",
   "metadata": {},
   "outputs": [
    {
     "data": {
      "text/plain": [
       "tensor([0, 1, 2, 3, 4])"
      ]
     },
     "execution_count": 11,
     "metadata": {},
     "output_type": "execute_result"
    }
   ],
   "source": [
    "arange = torch.arange(5)\n",
    "arange"
   ]
  },
  {
   "cell_type": "code",
   "execution_count": 12,
   "id": "780ad9f4-ac9e-4a5b-9834-0beb32c22538",
   "metadata": {},
   "outputs": [
    {
     "data": {
      "text/plain": [
       "tensor([ 3.0000,  4.7500,  6.5000,  8.2500, 10.0000])"
      ]
     },
     "execution_count": 12,
     "metadata": {},
     "output_type": "execute_result"
    }
   ],
   "source": [
    "linspace = torch.linspace(3,10,steps=5)\n",
    "linspace"
   ]
  },
  {
   "cell_type": "code",
   "execution_count": 14,
   "id": "7feac50f-06ee-4276-bd4a-fc95b0d75334",
   "metadata": {},
   "outputs": [
    {
     "data": {
      "text/plain": [
       "tensor([1.0000e-10, 1.0000e-05, 1.0000e+00, 1.0000e+05, 1.0000e+10])"
      ]
     },
     "execution_count": 14,
     "metadata": {},
     "output_type": "execute_result"
    }
   ],
   "source": [
    "logspace = torch.logspace(start=-10,end=10,steps=5)\n",
    "logspace"
   ]
  },
  {
   "cell_type": "code",
   "execution_count": 16,
   "id": "1dd28a37-dd24-4abb-a4d8-86ccf66f75da",
   "metadata": {},
   "outputs": [
    {
     "data": {
      "text/plain": [
       "tensor([[1., 0., 0., 0.],\n",
       "        [0., 1., 0., 0.],\n",
       "        [0., 0., 1., 0.],\n",
       "        [0., 0., 0., 1.]])"
      ]
     },
     "execution_count": 16,
     "metadata": {},
     "output_type": "execute_result"
    }
   ],
   "source": [
    "eye = torch.eye(4,4)\n",
    "eye"
   ]
  },
  {
   "cell_type": "code",
   "execution_count": 33,
   "id": "86a72bf7-31fe-4495-879e-15db72c9935d",
   "metadata": {},
   "outputs": [
    {
     "name": "stdout",
     "output_type": "stream",
     "text": [
      "tensor([[    140249296641424,     140249296641424,                   0],\n",
      "        [                  0,                   0, 7310593858020254331]])\n",
      "tensor([[    140249296641440,     140249296641440, 3616722798912352564],\n",
      "        [2318265678939828276, 2478221553439042850, 7149804592159662138]])\n"
     ]
    }
   ],
   "source": [
    "a = torch.empty((2,3), dtype=torch.int64)\n",
    "empty_like = torch.empty_like(a)\n",
    "print(a)\n",
    "print(empty_like)"
   ]
  },
  {
   "cell_type": "markdown",
   "id": "c074eefa-494a-4214-b223-80dfe8e57111",
   "metadata": {},
   "source": [
    "GPU and CPU peformance"
   ]
  },
  {
   "cell_type": "code",
   "execution_count": 68,
   "id": "73b49599-4a17-46aa-bb1e-ee38501376ff",
   "metadata": {},
   "outputs": [
    {
     "name": "stdout",
     "output_type": "stream",
     "text": [
      "cuda\n"
     ]
    }
   ],
   "source": [
    "import torch\n",
    "import numpy as np\n",
    "import time\n",
    "\n",
    "device = 'cuda' if torch.cuda.is_available() else 'cpu'\n",
    "print(device)"
   ]
  },
  {
   "cell_type": "code",
   "execution_count": 78,
   "id": "2deafb24-892e-44bd-be93-fef8d678684b",
   "metadata": {},
   "outputs": [
    {
     "name": "stdout",
     "output_type": "stream",
     "text": [
      "elapsed time:  0.00041484832763671875\n",
      "CPU times: user 556 µs, sys: 47 µs, total: 603 µs\n",
      "Wall time: 499 µs\n"
     ]
    }
   ],
   "source": [
    "%%time\n",
    "start_time = time.time()\n",
    "\n",
    "# matrix operations here\n",
    "zeros = torch.zeros(1,1)\n",
    "end_time = time.time()\n",
    "\n",
    "elapsed_time = end_time - start_time\n",
    "print('elapsed time: ', elapsed_time)"
   ]
  },
  {
   "cell_type": "code",
   "execution_count": 81,
   "id": "559428fd-f7ae-4c80-b249-f477f9a6a1a7",
   "metadata": {},
   "outputs": [
    {
     "name": "stdout",
     "output_type": "stream",
     "text": [
      "elapsed time:  0.008358478546142578\n",
      "CPU times: user 90.9 ms, sys: 2.18 ms, total: 93 ms\n",
      "Wall time: 24.9 ms\n"
     ]
    }
   ],
   "source": [
    "%%time\n",
    "# CPU time only time of execution\n",
    "# Test CPU performance\n",
    "SIZE = 1000\n",
    "cpu_rand1 = torch.rand(SIZE,SIZE)\n",
    "cpu_rand2 = torch.rand(SIZE,SIZE)\n",
    "\n",
    "start_time = time.time()\n",
    "cpu_rand = cpu_rand1 @ cpu_rand2\n",
    "end_time = time.time()\n",
    "elapsed_time = end_time - start_time\n",
    "print('elapsed time: ',elapsed_time)"
   ]
  },
  {
   "cell_type": "code",
   "execution_count": 80,
   "id": "394ebba0-43a6-4e21-aa1d-e891e2bfb056",
   "metadata": {},
   "outputs": [
    {
     "name": "stdout",
     "output_type": "stream",
     "text": [
      "elapsed time:  9.822845458984375e-05\n",
      "CPU times: user 11.9 ms, sys: 16.1 ms, total: 28 ms\n",
      "Wall time: 27.4 ms\n"
     ]
    }
   ],
   "source": [
    "%%time\n",
    "# First time on gpu will be poor\n",
    "gpu_rand1 = torch.rand(SIZE,SIZE).to(device)\n",
    "gpu_rand2 = torch.rand(SIZE,SIZE).to(device)\n",
    "\n",
    "start_time = time.time()\n",
    "gpu_rand = gpu_rand1 @ gpu_rand2\n",
    "end_time = time.time()\n",
    "elapsed_time = end_time - start_time\n",
    "print('elapsed time: ',elapsed_time)"
   ]
  },
  {
   "cell_type": "code",
   "execution_count": 72,
   "id": "2cd5d9b7-a3f2-4ac2-9f0d-52adcc1dd3d0",
   "metadata": {},
   "outputs": [],
   "source": [
    "del gpu_rand1\n",
    "del gpu_rand2\n",
    "del gpu_rand"
   ]
  },
  {
   "cell_type": "code",
   "execution_count": 76,
   "id": "98584558-afa6-4ff8-8c09-22d396f2b832",
   "metadata": {},
   "outputs": [],
   "source": [
    "torch.cuda.empty_cache()"
   ]
  },
  {
   "cell_type": "code",
   "execution_count": 77,
   "id": "8b0f3d90-2e4b-4307-93c6-11400ceb6208",
   "metadata": {},
   "outputs": [
    {
     "name": "stdout",
     "output_type": "stream",
     "text": [
      "|===========================================================================|\n",
      "|                  PyTorch CUDA memory summary, device ID 0                 |\n",
      "|---------------------------------------------------------------------------|\n",
      "|            CUDA OOMs: 0            |        cudaMalloc retries: 0         |\n",
      "|===========================================================================|\n",
      "|        Metric         | Cur Usage  | Peak Usage | Tot Alloc  | Tot Freed  |\n",
      "|---------------------------------------------------------------------------|\n",
      "| Allocated memory      |       0 B  |    1149 MB |    1386 MB |    1386 MB |\n",
      "|       from large pool |       0 B  |    1149 MB |    1386 MB |    1386 MB |\n",
      "|       from small pool |       0 B  |       0 MB |       0 MB |       0 MB |\n",
      "|---------------------------------------------------------------------------|\n",
      "| Active memory         |       0 B  |    1149 MB |    1386 MB |    1386 MB |\n",
      "|       from large pool |       0 B  |    1149 MB |    1386 MB |    1386 MB |\n",
      "|       from small pool |       0 B  |       0 MB |       0 MB |       0 MB |\n",
      "|---------------------------------------------------------------------------|\n",
      "| GPU reserved memory   |       0 B  |    1166 MB |    1186 MB |    1186 MB |\n",
      "|       from large pool |       0 B  |    1166 MB |    1186 MB |    1186 MB |\n",
      "|       from small pool |       0 B  |       0 MB |       0 MB |       0 MB |\n",
      "|---------------------------------------------------------------------------|\n",
      "| Non-releasable memory |       0 B  |   16573 KB |  284110 KB |  284110 KB |\n",
      "|       from large pool |       0 B  |   16573 KB |  284110 KB |  284110 KB |\n",
      "|       from small pool |       0 B  |       0 KB |       0 KB |       0 KB |\n",
      "|---------------------------------------------------------------------------|\n",
      "| Allocations           |       0    |       4    |      66    |      66    |\n",
      "|       from large pool |       0    |       4    |      66    |      66    |\n",
      "|       from small pool |       0    |       0    |       0    |       0    |\n",
      "|---------------------------------------------------------------------------|\n",
      "| Active allocs         |       0    |       4    |      66    |      66    |\n",
      "|       from large pool |       0    |       4    |      66    |      66    |\n",
      "|       from small pool |       0    |       0    |       0    |       0    |\n",
      "|---------------------------------------------------------------------------|\n",
      "| GPU reserved segments |       0    |       4    |       5    |       5    |\n",
      "|       from large pool |       0    |       4    |       5    |       5    |\n",
      "|       from small pool |       0    |       0    |       0    |       0    |\n",
      "|---------------------------------------------------------------------------|\n",
      "| Non-releasable allocs |       0    |       2    |      46    |      46    |\n",
      "|       from large pool |       0    |       2    |      46    |      46    |\n",
      "|       from small pool |       0    |       0    |       0    |       0    |\n",
      "|---------------------------------------------------------------------------|\n",
      "| Oversize allocations  |       0    |       0    |       0    |       0    |\n",
      "|---------------------------------------------------------------------------|\n",
      "| Oversize GPU segments |       0    |       0    |       0    |       0    |\n",
      "|===========================================================================|\n",
      "\n"
     ]
    }
   ],
   "source": [
    "print(torch.cuda.memory_summary())"
   ]
  },
  {
   "cell_type": "markdown",
   "id": "4321147d-8b50-4cd8-84fc-e6a529694300",
   "metadata": {},
   "source": [
    "Working with tensor"
   ]
  },
  {
   "cell_type": "code",
   "execution_count": 84,
   "id": "f51add3c-5685-4de9-bbab-e080356d7ff8",
   "metadata": {},
   "outputs": [
    {
     "name": "stdout",
     "output_type": "stream",
     "text": [
      "tensor([0.1000, 0.9000])\n",
      "tensor([1, 1, 1, 1, 1, 1, 1, 1, 1, 1])\n"
     ]
    }
   ],
   "source": [
    "# Define probabiity tensor\n",
    "probabilities = torch.tensor([0.1, 0.9])\n",
    "print(probabilities) # 10% or 0.1 => 0, 90% or 0.9 => 1, each probability to the index of the probability in the tensor\n",
    "samples = torch.multinomial(probabilities, num_samples=10, replacement=True)\n",
    "print(samples)"
   ]
  },
  {
   "cell_type": "code",
   "execution_count": 85,
   "id": "3cf72a97-26fa-4849-a477-8b0d036068e3",
   "metadata": {},
   "outputs": [
    {
     "data": {
      "text/plain": [
       "tensor([1, 2, 3, 4, 5])"
      ]
     },
     "execution_count": 85,
     "metadata": {},
     "output_type": "execute_result"
    }
   ],
   "source": [
    "tensor = torch.tensor([1,2,3,4])\n",
    "out = torch.cat((tensor,torch.tensor([5])),dim=0)\n",
    "out"
   ]
  },
  {
   "cell_type": "code",
   "execution_count": 86,
   "id": "488ed278-8818-420f-bcbc-e81a6dbf1e43",
   "metadata": {},
   "outputs": [
    {
     "data": {
      "text/plain": [
       "tensor([[1., 0., 0., 0., 0.],\n",
       "        [1., 1., 0., 0., 0.],\n",
       "        [1., 1., 1., 0., 0.],\n",
       "        [1., 1., 1., 1., 0.],\n",
       "        [1., 1., 1., 1., 1.]])"
      ]
     },
     "execution_count": 86,
     "metadata": {},
     "output_type": "execute_result"
    }
   ],
   "source": [
    "out = torch.tril(torch.ones(5,5))\n",
    "out"
   ]
  },
  {
   "cell_type": "code",
   "execution_count": 88,
   "id": "e39ba79c-3431-4dac-9e30-423c65568087",
   "metadata": {},
   "outputs": [
    {
     "data": {
      "text/plain": [
       "tensor([[1., 1., 1., 1., 1.],\n",
       "        [0., 1., 1., 1., 1.],\n",
       "        [0., 0., 1., 1., 1.],\n",
       "        [0., 0., 0., 1., 1.],\n",
       "        [0., 0., 0., 0., 1.]])"
      ]
     },
     "execution_count": 88,
     "metadata": {},
     "output_type": "execute_result"
    }
   ],
   "source": [
    "out = torch.triu(torch.ones(5,5))\n",
    "out"
   ]
  },
  {
   "cell_type": "code",
   "execution_count": 93,
   "id": "f0c6d8cf-8595-4b69-9111-b99b4600df5e",
   "metadata": {},
   "outputs": [
    {
     "data": {
      "text/plain": [
       "tensor([[0., -inf, -inf, -inf, -inf],\n",
       "        [0., 0., -inf, -inf, -inf],\n",
       "        [0., 0., 0., -inf, -inf],\n",
       "        [0., 0., 0., 0., -inf],\n",
       "        [0., 0., 0., 0., 0.]])"
      ]
     },
     "execution_count": 93,
     "metadata": {},
     "output_type": "execute_result"
    }
   ],
   "source": [
    "out = torch.zeros(5,5).masked_fill(torch.tril(torch.ones(5,5))==0,float('-inf'))\n",
    "out"
   ]
  },
  {
   "cell_type": "code",
   "execution_count": 94,
   "id": "004246f4-7f45-4573-9924-d83bf1814554",
   "metadata": {},
   "outputs": [
    {
     "data": {
      "text/plain": [
       "tensor([[1., 0., 0., 0., 0.],\n",
       "        [1., 1., 0., 0., 0.],\n",
       "        [1., 1., 1., 0., 0.],\n",
       "        [1., 1., 1., 1., 0.],\n",
       "        [1., 1., 1., 1., 1.]])"
      ]
     },
     "execution_count": 94,
     "metadata": {},
     "output_type": "execute_result"
    }
   ],
   "source": [
    "torch.exp(out)"
   ]
  },
  {
   "cell_type": "code",
   "execution_count": 97,
   "id": "6bb3c96b-279e-46d2-83a0-37501bd39a72",
   "metadata": {},
   "outputs": [
    {
     "name": "stdout",
     "output_type": "stream",
     "text": [
      "torch.Size([2, 3, 4])\n"
     ]
    },
    {
     "data": {
      "text/plain": [
       "torch.Size([4, 3, 2])"
      ]
     },
     "execution_count": 97,
     "metadata": {},
     "output_type": "execute_result"
    }
   ],
   "source": [
    "tensor = torch.zeros(2,3,4)\n",
    "print(tensor.shape)\n",
    "out = tensor.transpose(0,2)\n",
    "out.shape"
   ]
  },
  {
   "cell_type": "code",
   "execution_count": 98,
   "id": "6b430c1b-e3fc-41f3-9a8c-6a822949bd6e",
   "metadata": {},
   "outputs": [
    {
     "data": {
      "text/plain": [
       "tensor([[1, 2, 3],\n",
       "        [4, 5, 6],\n",
       "        [7, 8, 9]])"
      ]
     },
     "execution_count": 98,
     "metadata": {},
     "output_type": "execute_result"
    }
   ],
   "source": [
    "tensor1 = torch.tensor([1,2,3])\n",
    "tensor2 = torch.tensor([4,5,6])\n",
    "tensor3 = torch.tensor([7,8,9])\n",
    "\n",
    "# Stack the tensors along\n",
    "stacked_tensor = torch.stack([tensor1,tensor2,tensor3])\n",
    "stacked_tensor"
   ]
  },
  {
   "cell_type": "code",
   "execution_count": 100,
   "id": "4dafa3e1-12af-4741-9bc2-3224442676cd",
   "metadata": {},
   "outputs": [
    {
     "name": "stdout",
     "output_type": "stream",
     "text": [
      "Linear(in_features=3, out_features=3, bias=False)\n",
      "tensor([-10.7055,  -3.1374,   4.6692], grad_fn=<SqueezeBackward3>)\n"
     ]
    }
   ],
   "source": [
    "import torch.nn as nn\n",
    "sample = torch.tensor([10.,10.,10.])\n",
    "linear = nn.Linear(3,3,bias=False)\n",
    "print(linear)\n",
    "print(linear(sample))"
   ]
  },
  {
   "cell_type": "code",
   "execution_count": 101,
   "id": "f62dd522-714e-494d-b517-21fed86bd4b4",
   "metadata": {},
   "outputs": [
    {
     "data": {
      "text/plain": [
       "tensor([0.0900, 0.2447, 0.6652])"
      ]
     },
     "execution_count": 101,
     "metadata": {},
     "output_type": "execute_result"
    }
   ],
   "source": [
    "import torch.nn.functional as F\n",
    "\n",
    "# Create a tensor\n",
    "tensor1 = torch.tensor([1.0, 2.0, 3.0])\n",
    "\n",
    "# Apply softmax using torch.nn.functional.softmax()\n",
    "softmax_output = F.softmax(tensor1,dim=0)\n",
    "softmax_output"
   ]
  }
 ],
 "metadata": {
  "kernelspec": {
   "display_name": "Python 3 (ipykernel)",
   "language": "python",
   "name": "python3"
  },
  "language_info": {
   "codemirror_mode": {
    "name": "ipython",
    "version": 3
   },
   "file_extension": ".py",
   "mimetype": "text/x-python",
   "name": "python",
   "nbconvert_exporter": "python",
   "pygments_lexer": "ipython3",
   "version": "3.8.18"
  }
 },
 "nbformat": 4,
 "nbformat_minor": 5
}
