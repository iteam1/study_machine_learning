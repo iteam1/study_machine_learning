{
 "cells": [
  {
   "cell_type": "code",
   "execution_count": 228,
   "id": "e085901b-c656-43c7-bfc7-78a63c89a479",
   "metadata": {},
   "outputs": [
    {
     "name": "stdout",
     "output_type": "stream",
     "text": [
      "cuda\n"
     ]
    }
   ],
   "source": [
    "# Import libraries\n",
    "import torch\n",
    "import torch.nn as nn\n",
    "from torch.nn import functional as F\n",
    "device = 'cuda' if torch.cuda.is_available() else 'cpu'\n",
    "print(device)\n",
    "block_size = 256\n",
    "batch_size = 128\n",
    "max_iters = 30000\n",
    "# eval_interval = 2500\n",
    "learning_rate = 7e-4\n",
    "eval_iters = 2500"
   ]
  },
  {
   "cell_type": "code",
   "execution_count": 229,
   "id": "e646278c-dc89-4d86-a05d-ce9cc6363b17",
   "metadata": {},
   "outputs": [
    {
     "name": "stdout",
     "output_type": "stream",
     "text": [
      "['\\n', ' ', '!', '\"', '&', \"'\", '(', ')', '*', ',', '-', '.', '0', '1', '2', '3', '4', '5', '6', '7', '8', '9', ':', ';', '?', 'A', 'B', 'C', 'D', 'E', 'F', 'G', 'H', 'I', 'J', 'K', 'L', 'M', 'N', 'O', 'P', 'Q', 'R', 'S', 'T', 'U', 'V', 'W', 'X', 'Y', 'Z', '[', ']', '_', 'a', 'b', 'c', 'd', 'e', 'f', 'g', 'h', 'i', 'j', 'k', 'l', 'm', 'n', 'o', 'p', 'q', 'r', 's', 't', 'u', 'v', 'w', 'x', 'y', 'z', '\\ufeff']\n"
     ]
    }
   ],
   "source": [
    "# Read data\n",
    "with open('wizard_of_oz.txt', 'r', encoding='utf-8') as f:\n",
    "    text = f.read()\n",
    "chars = sorted(set(text))\n",
    "print(chars)\n",
    "vocab_size = len(chars)"
   ]
  },
  {
   "cell_type": "code",
   "execution_count": 230,
   "id": "51b16054-5b25-4f15-964e-5903915eb604",
   "metadata": {},
   "outputs": [
    {
     "name": "stdout",
     "output_type": "stream",
     "text": [
      "81\n",
      "['\\n', ' ', '!', '\"', '&', \"'\", '(', ')', '*', ',', '-', '.', '0', '1', '2', '3', '4', '5', '6', '7', '8', '9', ':', ';', '?', 'A', 'B', 'C', 'D', 'E', 'F', 'G', 'H', 'I', 'J', 'K', 'L', 'M', 'N', 'O', 'P', 'Q', 'R', 'S', 'T', 'U', 'V', 'W', 'X', 'Y', 'Z', '[', ']', '_', 'a', 'b', 'c', 'd', 'e', 'f', 'g', 'h', 'i', 'j', 'k', 'l', 'm', 'n', 'o', 'p', 'q', 'r', 's', 't', 'u', 'v', 'w', 'x', 'y', 'z', '\\ufeff']\n"
     ]
    }
   ],
   "source": [
    "# Get all unique characters\n",
    "chars = sorted(set(text))\n",
    "vocab_size = len(chars)\n",
    "print(vocab_size)\n",
    "print(chars)"
   ]
  },
  {
   "cell_type": "markdown",
   "id": "399dbcd4-c091-4232-812f-263ca654a063",
   "metadata": {},
   "source": [
    "Level of tokenizer\n",
    "- character\n",
    "- word\n",
    "- multi language\n",
    "\n",
    "*More tokenizer less amount to encode and decode*"
   ]
  },
  {
   "cell_type": "code",
   "execution_count": 231,
   "id": "3c9e442a-e57b-42e1-bfd2-73973db8655a",
   "metadata": {},
   "outputs": [
    {
     "name": "stdout",
     "output_type": "stream",
     "text": [
      "[61, 58, 65, 65, 68, 1, 76, 68, 71, 65, 57, 2]\n",
      "hello world!\n"
     ]
    }
   ],
   "source": [
    "# Encode dict\n",
    "string_to_int = {ch:i for i,ch in enumerate(chars)}\n",
    "# Decode dict\n",
    "int_to_string = {i:ch for i,ch in enumerate(chars)}\n",
    "\n",
    "# Define lambda function\n",
    "encode = lambda s:[string_to_int[c] for c in s]\n",
    "decode = lambda l: ''.join(int_to_string[i] for i in l)\n",
    "\n",
    "# Test\n",
    "print(encode('hello world!'))\n",
    "print(decode([61, 58, 65, 65, 68, 1, 76, 68, 71, 65, 57, 2]))"
   ]
  },
  {
   "cell_type": "code",
   "execution_count": 232,
   "id": "be5fc6be-8c9c-484a-b2cf-467f3e2c7f57",
   "metadata": {},
   "outputs": [
    {
     "data": {
      "text/plain": [
       "tensor([80,  1,  1, 28, 39, 42, 39, 44, 32, 49,  1, 25, 38, 28,  1, 44, 32, 29,\n",
       "         1, 47, 33, 50, 25, 42, 28,  1, 33, 38,  1, 39, 50,  0,  0,  1,  1, 26,\n",
       "        49,  0,  0,  1,  1, 36, 11,  1, 30, 42, 25, 38, 35,  1, 26, 25, 45, 37,\n",
       "         0,  0,  1,  1, 25, 45, 44, 32, 39, 42,  1, 39, 30,  1, 44, 32, 29,  1,\n",
       "        47, 33, 50, 25, 42, 28,  1, 39, 30,  1, 39, 50,  9,  1, 44, 32, 29,  1,\n",
       "        36, 25, 38, 28,  1, 39, 30,  1, 39, 50])"
      ]
     },
     "execution_count": 232,
     "metadata": {},
     "output_type": "execute_result"
    }
   ],
   "source": [
    "# Convert text to tensor\n",
    "data = torch.tensor(encode(text),dtype = torch.long)\n",
    "data[:100]"
   ]
  },
  {
   "cell_type": "code",
   "execution_count": 238,
   "id": "6c733690-4648-4869-8b8a-798ce0935739",
   "metadata": {},
   "outputs": [
    {
     "name": "stdout",
     "output_type": "stream",
     "text": [
      "185847\n",
      "inputs:\n",
      "tensor([[ 9,  1, 54,  ..., 54, 73,  1],\n",
      "        [61,  1, 54,  ..., 54, 71, 73],\n",
      "        [58, 71, 65,  ..., 67, 58, 57],\n",
      "        ...,\n",
      "        [66, 54, 71,  ..., 61, 54, 73],\n",
      "        [58,  1, 59,  ..., 72, 62, 65],\n",
      "        [75, 62, 72,  ..., 68, 73,  1]], device='cuda:0')\n",
      "targets:\n",
      "tensor([[ 1, 54, 67,  ..., 73,  1, 73],\n",
      "        [ 1, 54, 67,  ..., 71, 73, 61],\n",
      "        [71, 65, 78,  ..., 58, 57,  1],\n",
      "        ...,\n",
      "        [54, 71, 64,  ..., 54, 73,  1],\n",
      "        [ 1, 59, 68,  ..., 62, 65, 58],\n",
      "        [62, 72, 62,  ..., 73,  1, 61]], device='cuda:0')\n"
     ]
    }
   ],
   "source": [
    "# Split train test\n",
    "n = int(0.8*len(data))\n",
    "train_data = data[:n]\n",
    "val_data = data[n:]\n",
    "\n",
    "def get_batch(split):\n",
    "    data = train_data if split == 'train' else val_data\n",
    "    ix = torch.randint(len(data) - block_size, (batch_size,))\n",
    "    x = torch.stack([data[i:i+block_size] for i in ix])\n",
    "    y = torch.stack([data[i+1:i+block_size+1] for i in ix])\n",
    "    x, y = x.to(device), y.to(device)\n",
    "    return x, y\n",
    "\n",
    "print(n)\n",
    "x, y = get_batch('train')\n",
    "print('inputs:')\n",
    "# print(x.shape)\n",
    "print(x)\n",
    "print('targets:')\n",
    "print(y)"
   ]
  },
  {
   "cell_type": "code",
   "execution_count": 234,
   "id": "e576fbb6-cf9e-4d7c-b769-2c14cd8f7df7",
   "metadata": {},
   "outputs": [],
   "source": [
    "@torch.no_grad()\n",
    "def estimate_loss():\n",
    "    out = {}\n",
    "    model.eval()\n",
    "    for split in ['train', 'val']:\n",
    "        losses = torch.zeros(eval_iters)\n",
    "        for k in range(eval_iters):\n",
    "            X, Y = get_batch(split)\n",
    "            logits, loss = model(X, Y)\n",
    "            losses[k] = loss.item()\n",
    "        out[split] = losses.mean()\n",
    "    model.train()\n",
    "    return out"
   ]
  },
  {
   "cell_type": "code",
   "execution_count": 235,
   "id": "218cb82f-4dcd-40fd-87ec-13ae5ae8f9c5",
   "metadata": {},
   "outputs": [
    {
     "name": "stdout",
     "output_type": "stream",
     "text": [
      "\n",
      "F9H\n",
      "ALofyO?qZ ﻿\"H,v_xdZ5I3tYG:4r1V&db c':9,p6\n",
      "*xORzrIIR)ZiU!6TTN'-IRy4yXK82!3zeRyo;Ivs1!tL(F2a.rQoN12d2R?9VHDxS7J*BcWUq?QzdepEwQ3SyjOiboT9Fw_5;a:*vNBSpM_SkMllp]'gKD]lruuTHUcjXw'ozW\n",
      "'jF!BK:,Q16Cq:Y0y2Bc!TJIHM8]5Kvrz3NVXX6bbt\n",
      ")moTeE7.W4FzmP1j?9&d3n,\"2RBz7d \"2du1p[(,5EJaeZ(k8)uhP!IR[gX nQo&i8RYf)_R2RhyiPyKT8Y7X.\"VO-eCEeD6Abp A1gl﻿zC]JNVF9'2RG﻿ui﻿zHs2dp-:v]57dCzC2!_]Jkt 9P3.9Ce7.-k,WgeAf58)_Ss8wgguN]*b.KpMqlsO8[iUD.9qFd.F '_ cDT:9q[kLxa]x4a67d,n0q7w'3x\n",
      "7)ufMbK(﻿﻿TtAC ;X]lS_t9P]lN[)Ts1C:LLU﻿iwb ;,0w4\n"
     ]
    }
   ],
   "source": [
    "class BigramLanguageModel(nn.Module):\n",
    "    def __init__(self, vocab_size):\n",
    "        super().__init__()\n",
    "        self.token_embedding_table = nn.Embedding(vocab_size, vocab_size)\n",
    "        \n",
    "    def forward(self, index, targets=None):\n",
    "        logits = self.token_embedding_table(index)\n",
    "        \n",
    "        \n",
    "        if targets is None:\n",
    "            loss = None\n",
    "        else:\n",
    "            B, T, C = logits.shape\n",
    "            logits = logits.view(B*T, C)\n",
    "            targets = targets.view(B*T)\n",
    "            loss = F.cross_entropy(logits, targets)\n",
    "        \n",
    "        return logits, loss\n",
    "    \n",
    "    def generate(self, index, max_new_tokens):\n",
    "        # index is (B, T) array of indices in the current context\n",
    "        for _ in range(max_new_tokens):\n",
    "            # get the predictions\n",
    "            logits, loss = self.forward(index)\n",
    "            # focus only on the last time step\n",
    "            logits = logits[:, -1, :] # becomes (B, C)\n",
    "            # apply softmax to get probabilities\n",
    "            probs = F.softmax(logits, dim=-1) # (B, C)\n",
    "            # sample from the distribution\n",
    "            index_next = torch.multinomial(probs, num_samples=1) # (B, 1)\n",
    "            # append sampled index to the running sequence\n",
    "            index = torch.cat((index, index_next), dim=1) # (B, T+1)\n",
    "        return index\n",
    "\n",
    "model = BigramLanguageModel(vocab_size)\n",
    "m = model.to(device)\n",
    "\n",
    "context = torch.zeros((1,1), dtype=torch.long, device=device)\n",
    "generated_chars = decode(m.generate(context, max_new_tokens=500)[0].tolist())\n",
    "print(generated_chars)"
   ]
  },
  {
   "cell_type": "code",
   "execution_count": 236,
   "id": "d37720c2-90e2-43c7-b607-1fcf2084bd74",
   "metadata": {},
   "outputs": [
    {
     "name": "stdout",
     "output_type": "stream",
     "text": [
      "step: 0, train loss: 4.844, val loss: 4.844\n",
      "step: 2500, train loss: 3.073, val loss: 3.095\n",
      "step: 5000, train loss: 2.551, val loss: 2.592\n",
      "step: 7500, train loss: 2.451, val loss: 2.498\n",
      "step: 10000, train loss: 2.430, val loss: 2.480\n",
      "step: 12500, train loss: 2.424, val loss: 2.473\n",
      "step: 15000, train loss: 2.420, val loss: 2.472\n",
      "step: 17500, train loss: 2.419, val loss: 2.472\n",
      "step: 20000, train loss: 2.419, val loss: 2.473\n",
      "step: 22500, train loss: 2.419, val loss: 2.474\n",
      "step: 25000, train loss: 2.418, val loss: 2.474\n",
      "step: 27500, train loss: 2.419, val loss: 2.475\n",
      "2.398193836212158\n"
     ]
    }
   ],
   "source": [
    "# create a PyTorch optimizer\n",
    "optimizer = torch.optim.Adam(model.parameters(), lr=learning_rate)\n",
    "\n",
    "for iter in range(max_iters):\n",
    "    if iter % eval_iters == 0:\n",
    "        losses = estimate_loss()\n",
    "        print(f\"step: {iter}, train loss: {losses['train']:.3f}, val loss: {losses['val']:.3f}\")\n",
    "\n",
    "    # sample a batch of data\n",
    "    xb, yb = get_batch('train')\n",
    "\n",
    "    # evaluate the loss\n",
    "    logits, loss = model.forward(xb, yb)\n",
    "    optimizer.zero_grad(set_to_none=True)\n",
    "    loss.backward()\n",
    "    optimizer.step()\n",
    "print(loss.item())"
   ]
  },
  {
   "cell_type": "code",
   "execution_count": 244,
   "id": "55c167b7-a1c0-4d4d-80a8-04cc64dbae4b",
   "metadata": {},
   "outputs": [
    {
     "name": "stdout",
     "output_type": "stream",
     "text": [
      "context:  tensor([[0]], device='cuda:0')\n",
      "\n",
      "\n",
      "\"Yerekel Pe sale thed lorerdre t therie s fu, TE tr adeianghe hty \"Winad\n",
      "\"Sollome.\n",
      "\n",
      "contowanean t patrso, g tth?\"\n",
      "eyrintecid arod t h tucadrevep sthe otthat by holld alat wand ly tartar\n",
      "wot, and dir,\"\n",
      "\n",
      "ald t foutanaie ir ngat, s te \" m\n",
      "\n",
      "Thed f ed ayoo at m, ithed\n",
      "geracand\n",
      "d yagoula we pan uryore thu bun_, s harest t o uglitfofloupa \"\n",
      "an, asapr'tow he, as. de ale sasino s thigastan  VI f arsise aizato tise  POOYerirud. ange th  k:\n",
      "wld oy ne nttun intr there,\n",
      "nd Itthet\n",
      "sor st y thincs aroshnqu hi\n"
     ]
    }
   ],
   "source": [
    "context = torch.zeros((1,1),dtype=torch.long, device=device)\n",
    "print('context: ',context)\n",
    "generated_chars = decode(m.generate(context, max_new_tokens=500)[0].tolist())\n",
    "print(generated_chars)"
   ]
  },
  {
   "cell_type": "code",
   "execution_count": null,
   "id": "8fdae73d-a191-49fd-b94f-910b6f14b0b5",
   "metadata": {},
   "outputs": [],
   "source": []
  }
 ],
 "metadata": {
  "kernelspec": {
   "display_name": "Python 3 (ipykernel)",
   "language": "python",
   "name": "python3"
  },
  "language_info": {
   "codemirror_mode": {
    "name": "ipython",
    "version": 3
   },
   "file_extension": ".py",
   "mimetype": "text/x-python",
   "name": "python",
   "nbconvert_exporter": "python",
   "pygments_lexer": "ipython3",
   "version": "3.8.18"
  }
 },
 "nbformat": 4,
 "nbformat_minor": 5
}
